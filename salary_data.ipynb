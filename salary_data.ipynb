{
 "cells": [
  {
   "cell_type": "code",
   "execution_count": 1,
   "id": "0b13a878",
   "metadata": {},
   "outputs": [],
   "source": [
    "import numpy as np\n",
    "import pandas as pd\n",
    "import seaborn as sns"
   ]
  },
  {
   "cell_type": "code",
   "execution_count": 2,
   "id": "d1fae824",
   "metadata": {},
   "outputs": [],
   "source": [
    "sal_train=pd.read_csv('SalaryData_Train(1).csv')\n",
    "sal_test=pd.read_csv('SalaryData_Test(1).csv')\n",
    "sal_train.columns\n",
    "sal_test.columns\n",
    "string_col=['workclass','education','maritalstatus','occupation','relationship','race','sex','native']"
   ]
  },
  {
   "cell_type": "code",
   "execution_count": 3,
   "id": "68e82411",
   "metadata": {},
   "outputs": [],
   "source": [
    "from sklearn import preprocessing\n",
    "label_encoder=preprocessing.LabelEncoder()"
   ]
  },
  {
   "cell_type": "code",
   "execution_count": 4,
   "id": "e5e6b6c1",
   "metadata": {},
   "outputs": [],
   "source": [
    "for i in string_col:\n",
    "    sal_train[i]=label_encoder.fit_transform(sal_train[i])\n",
    "    sal_test[i]=label_encoder.fit_transform(sal_test[i])\n",
    "    "
   ]
  },
  {
   "cell_type": "code",
   "execution_count": 5,
   "id": "58daebfd",
   "metadata": {},
   "outputs": [],
   "source": [
    "train_x=sal_train.iloc[0:500,0:13]\n",
    "train_y=sal_train.iloc[0:500,13]\n",
    "test_x=sal_test.iloc[0:300,0:13]\n",
    "test_y=sal_test.iloc[0:300,13]"
   ]
  },
  {
   "cell_type": "code",
   "execution_count": 6,
   "id": "831ba677",
   "metadata": {},
   "outputs": [],
   "source": [
    "from sklearn.svm import SVC\n"
   ]
  },
  {
   "cell_type": "code",
   "execution_count": 7,
   "id": "ae44210a",
   "metadata": {},
   "outputs": [
    {
     "data": {
      "text/plain": [
       "0.8166666666666667"
      ]
     },
     "execution_count": 7,
     "metadata": {},
     "output_type": "execute_result"
    }
   ],
   "source": [
    "#kernel=linear\n",
    "model_linear=SVC(kernel='linear')\n",
    "model_linear.fit(train_x,train_y)\n",
    "train_pred_lin=model_linear.predict(train_x)\n",
    "test_pred_lin=model_linear.predict(test_x)\n",
    "train_lin_acc=np.mean(train_pred_lin==train_y)\n",
    "test_lin_acc=np.mean(test_pred_lin==test_y)\n",
    "train_lin_acc#81.8\n",
    "test_lin_acc#81.6\n"
   ]
  },
  {
   "cell_type": "code",
   "execution_count": 8,
   "id": "43c16f63",
   "metadata": {},
   "outputs": [
    {
     "data": {
      "text/plain": [
       "0.8033333333333333"
      ]
     },
     "execution_count": 8,
     "metadata": {},
     "output_type": "execute_result"
    }
   ],
   "source": [
    "#kernel=poly\n",
    "model_poly=SVC(kernel='poly')\n",
    "model_poly.fit(train_x,train_y)\n",
    "train_pred_poly=model_poly.predict(train_x)\n",
    "test_pred_poly=model_poly.predict(test_x)\n",
    "train_poly_acc=np.mean(train_pred_poly==train_y)\n",
    "test_poly_acc=np.mean(test_pred_poly==test_y)\n",
    "train_poly_acc#81.2\n",
    "test_poly_acc#80.33\n"
   ]
  },
  {
   "cell_type": "code",
   "execution_count": 9,
   "id": "7f7f63c9",
   "metadata": {},
   "outputs": [
    {
     "data": {
      "text/plain": [
       "0.8033333333333333"
      ]
     },
     "execution_count": 9,
     "metadata": {},
     "output_type": "execute_result"
    }
   ],
   "source": [
    "#kernel=rbf\n",
    "model_rbf=SVC(kernel='rbf')\n",
    "model_rbf.fit(train_x,train_y)\n",
    "train_pred_rbf=model_rbf.predict(train_x)\n",
    "test_pred_rbf=model_rbf.predict(test_x)\n",
    "train_rbf_acc=np.mean(train_pred_rbf==train_y)\n",
    "test_rbf_acc=np.mean(test_pred_rbf==test_y)\n",
    "train_rbf_acc#81.2\n",
    "test_rbf_acc#80.33"
   ]
  },
  {
   "cell_type": "code",
   "execution_count": null,
   "id": "01ffc429",
   "metadata": {},
   "outputs": [],
   "source": []
  }
 ],
 "metadata": {
  "kernelspec": {
   "display_name": "Python 3 (ipykernel)",
   "language": "python",
   "name": "python3"
  },
  "language_info": {
   "codemirror_mode": {
    "name": "ipython",
    "version": 3
   },
   "file_extension": ".py",
   "mimetype": "text/x-python",
   "name": "python",
   "nbconvert_exporter": "python",
   "pygments_lexer": "ipython3",
   "version": "3.9.7"
  }
 },
 "nbformat": 4,
 "nbformat_minor": 5
}
